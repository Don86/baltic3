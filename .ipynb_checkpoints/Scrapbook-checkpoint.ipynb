{
 "cells": [
  {
   "cell_type": "code",
   "execution_count": 1,
   "metadata": {
    "collapsed": true
   },
   "outputs": [],
   "source": [
    "import pandas as pd\n",
    "import numpy as np\n",
    "\n",
    "import xio\n",
    "\n",
    "def fill_location(vname, geoloc_old):\n",
    "    geoloc = geoloc_old\n",
    "    if geoloc == \"*\":\n",
    "        if \"Perth\" in vname:\n",
    "            geoloc = \"WA\"\n",
    "        elif \"Canberra\" in vname:\n",
    "            geoloc = \"ACT\"\n",
    "        elif (\"Sydney\" in vname) or (\"Newcastle\" in vname) or (\"Maryland\" in vname):\n",
    "            geoloc = \"NSW\"\n",
    "        elif (\"Brisbane\" in vname) or (\"Townsville\" in vname):\n",
    "            geoloc = \"QLD\"\n",
    "        elif \"Victoria\" in vname:\n",
    "            geoloc = \"VIC\"\n",
    "        elif \"SouthAustralia\" in vname:\n",
    "            geoloc = \"SA\"\n",
    "        elif \"Darwin\" in vname:\n",
    "            geoloc = \"NT\"\n",
    "        elif \"Tasmania\" in vname:\n",
    "            geoloc = \"TAS\"\n",
    "        \n",
    "    return geoloc"
   ]
  },
  {
   "cell_type": "code",
   "execution_count": 2,
   "metadata": {},
   "outputs": [
    {
     "name": "stdout",
     "output_type": "stream",
     "text": [
      "['A/Sydney/153/2016|EPI_ISL_233282|2016-07-03', 'atgaagacta...']\n",
      "['A/Sydney/134/2016|EPI_ISL_233281|2016-07-09', 'atgaagacta...']\n",
      "['A/Victoria/512/2016|EPI_ISL_233279|2016-07-13', 'atgaagacta...']\n",
      "631 3529 631\n"
     ]
    }
   ],
   "source": [
    "c = xio.read_fasta(\"data/gis-h3n2-aus-cdh.fas\", delimiter=\"\", preview=3)\n",
    "#fas_cols = [\"vname\", \"vid\", \"cdate\"]\n",
    "d0 = pd.DataFrame(data=c, columns=[\"header\", \"seq\"])\n",
    "\n",
    "dm = pd.read_csv(\"data/gis-h3n2-aus-m-v2.csv\")\n",
    "dm = dm.fillna(\"*\")\n",
    "dm[\"header\"] = dm.apply(lambda row: \"|\".join([str(row[\"Isolate_Name\"]), \n",
    "                       str(row[\"Isolate_Id\"]), \n",
    "                       str(row[\"Collection_Date\"])]), axis=1)\n",
    "#dm[\"Isolate_Name\"] = dm.apply(lambda row: str(row[\"Isolate_Name\"]).replace(\" \", \"\"), axis=1)\n",
    "\n",
    "dz = pd.merge(d0, dm[[\"header\", \"Location\"]], on=\"header\")\n",
    "\n",
    "print(len(d0), len(dm), len(dz))\n",
    "\n",
    "# Format dz\n",
    "dz[\"nid\"] = dz.apply(lambda row: str(row[\"header\"]).split(\"|\")[0]+\"|\"+str(row[\"header\"]).split(\"|\")[1], axis=1)\n",
    "dz[\"cdate\"] = dz.apply(lambda row: str(row[\"header\"]).split(\"|\")[-1], axis=1)\n",
    "dz[\"geostate\"] = dz.apply(lambda row:str(row[\"Location\"]).split(\"/\")[0], axis=1)\n",
    "\n",
    "dz[\"new_header\"] = dz.apply(lambda row: str(row[\"nid\"])+\"|\"+str(row[\"geostate\"])+\"|\"+str(row[\"cdate\"]), axis=1)"
   ]
  },
  {
   "cell_type": "code",
   "execution_count": 3,
   "metadata": {},
   "outputs": [
    {
     "name": "stdout",
     "output_type": "stream",
     "text": [
      "Wrote to file data/gis-h3n2-aus-cdh-c9975.fas\n"
     ]
    }
   ],
   "source": [
    "xio.write_fasta(\"data/gis-h3n2-aus-cdh-c9975.fas\", dz, [\"new_header\"])"
   ]
  },
  {
   "cell_type": "code",
   "execution_count": 11,
   "metadata": {},
   "outputs": [
    {
     "name": "stdout",
     "output_type": "stream",
     "text": [
      "['A/Sydney/153/2016|EPI_ISL_233282|NSW|2016-07-03', 'atgaagacta...']\n",
      "['A/Sydney/134/2016|EPI_ISL_233281|NSW|2016-07-09', 'atgaagacta...']\n",
      "['A/Victoria/512/2016|EPI_ISL_233279|VIC|2016-07-13', 'atgaagacta...']\n"
     ]
    }
   ],
   "source": [
    "c = xio.read_fasta(\"data/gis-h3n2-aus-cdh-c9975.fas\", delimiter=\"\", preview=3)\n",
    "\n",
    "d0 = pd.DataFrame(data=c, columns=[\"header\", \"seq\"])\n",
    "\n",
    "d0[\"state\"] = d0.apply(lambda row: str(row[\"header\"]).split(\"|\")[-2], axis=1)\n",
    "d0[\"cdate\"] = d0.apply(lambda row: str(row[\"header\"]).split(\"|\")[-1], axis=1)"
   ]
  },
  {
   "cell_type": "code",
   "execution_count": 13,
   "metadata": {},
   "outputs": [],
   "source": [
    "d0[[\"header\", \"state\", \"cdate\"]].to_csv(\"data/gis-h3n2-aus-cdh-c9975-m.csv\", index=False)"
   ]
  },
  {
   "cell_type": "code",
   "execution_count": null,
   "metadata": {
    "collapsed": true
   },
   "outputs": [],
   "source": []
  }
 ],
 "metadata": {
  "kernelspec": {
   "display_name": "Python 3",
   "language": "python",
   "name": "python3"
  },
  "language_info": {
   "codemirror_mode": {
    "name": "ipython",
    "version": 3
   },
   "file_extension": ".py",
   "mimetype": "text/x-python",
   "name": "python",
   "nbconvert_exporter": "python",
   "pygments_lexer": "ipython3",
   "version": "3.6.1"
  }
 },
 "nbformat": 4,
 "nbformat_minor": 2
}
