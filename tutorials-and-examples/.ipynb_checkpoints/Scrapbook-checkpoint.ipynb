{
 "cells": [
  {
   "cell_type": "code",
   "execution_count": 12,
   "metadata": {
    "collapsed": true
   },
   "outputs": [],
   "source": [
    "import numpy as np\n",
    "import pandas as pd\n",
    "\n",
    "import xio\n",
    "path0 = \"/Users/Don/Documents/baltic3/run_treetime/\""
   ]
  },
  {
   "cell_type": "code",
   "execution_count": 15,
   "metadata": {},
   "outputs": [
    {
     "name": "stdout",
     "output_type": "stream",
     "text": [
      "['A/Australia/18/2009|CY066511|2009-07-21', 'atgaaaacta...']\n",
      "['A/Australia/19/2009|CY061898|2009-07-21', 'atgaagacta...']\n",
      "['A/Australia/2/2009|CY061890|2009-07-16', 'atgaagacta...']\n",
      "723\n"
     ]
    }
   ],
   "source": [
    "c = xio.read_fasta(path0+\"vipr-aus-h3n2-cdh.fas\", delimiter=\"\", preview=3)\n",
    "\n",
    "d0 = pd.DataFrame(data=c, columns=[\"vname\", \"seq\"])\n",
    "d0[\"cdate\"] = d0.apply(lambda row: str(row[\"vname\"]).split(\"|\")[-1], axis=1)\n",
    "\n",
    "dm = pd.read_csv(path0 + \"vipr-aus-h3n2-cdh-m.csv\")\n"
   ]
  },
  {
   "cell_type": "code",
   "execution_count": null,
   "metadata": {
    "collapsed": true
   },
   "outputs": [],
   "source": [
    "for geostate in list(set(dm[\"state\"])):\n",
    "    print(\"%s, %.4f\" % (geostate, list(dm[\"state\"]).count(geostate)/723))"
   ]
  },
  {
   "cell_type": "code",
   "execution_count": 10,
   "metadata": {
    "collapsed": true
   },
   "outputs": [],
   "source": [
    "d0[[\"vname\", \"cdate\"]].to_csv(path0+\"vipr-aus-h3n2-cdh-m.csv\")"
   ]
  },
  {
   "cell_type": "code",
   "execution_count": null,
   "metadata": {},
   "outputs": [],
   "source": [
    "xio.write_fasta(\"/Users/Don/Documents/baltic3/assets/vipr-aus-h3n2-v2.fas\", d0, [\"vname\", \"vid\", \"cdate\"])"
   ]
  },
  {
   "cell_type": "code",
   "execution_count": null,
   "metadata": {
    "collapsed": true
   },
   "outputs": [],
   "source": [
    "dz = pd.merge(d0, dm[[\"header\", \"numdate\"]], on=\"header\")\n",
    "\n",
    "# Remove internal node rows\n",
    "leafnames_ls = []\n",
    "for nm in list(dz[\"header\"]):\n",
    "    if \"NODE_\" not in nm:\n",
    "        leafnames_ls.append(nm)\n",
    "\n",
    "dz = dz.loc[dz[\"header\"].isin(leafnames_ls)]\n",
    "dz[\"new_header\"] = dz.apply(lambda row: str(row[\"header\"]).split(\"|\")[0]+\"|\"+str(row[\"header\"]).split(\"|\")[1]+\"|\"+str(row[\"numdate\"]), axis=1)"
   ]
  },
  {
   "cell_type": "code",
   "execution_count": null,
   "metadata": {},
   "outputs": [],
   "source": [
    "xio.write_fasta(\"h3n2-n20.fas\", dz, [\"new_header\"])"
   ]
  },
  {
   "cell_type": "code",
   "execution_count": null,
   "metadata": {
    "collapsed": true
   },
   "outputs": [],
   "source": [
    "dz[[\"new_header\", \"numdate\"]].to_csv(\"h3n2-m.csv\", index=False)"
   ]
  },
  {
   "cell_type": "code",
   "execution_count": null,
   "metadata": {},
   "outputs": [],
   "source": [
    "dz"
   ]
  },
  {
   "cell_type": "code",
   "execution_count": null,
   "metadata": {
    "collapsed": true
   },
   "outputs": [],
   "source": []
  }
 ],
 "metadata": {
  "kernelspec": {
   "display_name": "Python 3",
   "language": "python",
   "name": "python3"
  },
  "language_info": {
   "codemirror_mode": {
    "name": "ipython",
    "version": 3
   },
   "file_extension": ".py",
   "mimetype": "text/x-python",
   "name": "python",
   "nbconvert_exporter": "python",
   "pygments_lexer": "ipython3",
   "version": "3.6.1"
  }
 },
 "nbformat": 4,
 "nbformat_minor": 2
}
