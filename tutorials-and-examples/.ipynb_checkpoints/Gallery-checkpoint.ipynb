{
 "cells": [
  {
   "cell_type": "markdown",
   "metadata": {},
   "source": [
    "# Gallery"
   ]
  },
  {
   "cell_type": "markdown",
   "metadata": {},
   "source": [
    "## A Simple Tree\n",
    "\n",
    "Input is `sample-small-tree.tre`, already formatted in a way that baltic can read. It's a tiny example with only 4 tips."
   ]
  },
  {
   "cell_type": "code",
   "execution_count": 2,
   "metadata": {
    "collapsed": true
   },
   "outputs": [],
   "source": [
    "%matplotlib inline\n",
    "import matplotlib.pyplot as plt\n",
    "import matplotlib as mpl\n",
    "mpl.rcParams[\"pdf.fonttype\"]=42\n",
    "mpl.rcParams['ps.fonttype'] = 42\n",
    "\n",
    "import numpy as np\n",
    "import pandas as pd\n",
    "\n",
    "import sys\n",
    "# sys.path.append tells Jupyter where you saved the baltic3 folder\n",
    "# un-comment out the next line to allow it to be run\n",
    "#sys.path.append(\"path/to/baltic3/folder\")\n",
    "\n",
    "# library containing main class defs, mostly written by Gytis\n",
    "import baltic3 as bt\n",
    "# lib containing utility functions, written by yours truly\n",
    "import baltic3_utils as btu"
   ]
  },
  {
   "cell_type": "markdown",
   "metadata": {},
   "source": [
    "## 1. Data Loading Section\n",
    "\n",
    "This looks a bit silly because it's only one line, but more complex visualizations will involve loading more data. This will print out some handy tree statistics like number of leaves, nodes, highest tip date, etc.\n",
    "\n",
    "`austechia_read_tree`, from the `baltic3_utils` module, reads a tree in the appropriately formatted nexus format into a `baltic` tree object. It has the following inputs, not all required:\n",
    "\n",
    "* `tree_path`: str; path to input free file.\n",
    "* `date_bool`: Boolean; checks if dates are in the tipnames. If False (default), `date_pos` and `date_delimiter` input arguments will do nothing.\n",
    "* `date_pos`: int; index of the dates in tipnames, if available (specify with `date_bool`). Decimal or calendar date formats are both supported. Calendar dates must be in yyyy-mm-dd, yyyy-mm or yyyy format. \n",
    "* `date_delimiter`: delimiter vale to read date off the tipname. \n",
    "* `make_tree_verbose`: Boolean; verbosity parameter.\n"
   ]
  },
  {
   "cell_type": "code",
   "execution_count": 8,
   "metadata": {},
   "outputs": [
    {
     "name": "stdout",
     "output_type": "stream",
     "text": [
      "\n",
      "Tree height: 0.900000\n",
      "Tree length: 1.500000\n",
      "annotations present\n",
      "\n",
      "Numbers of objects in tree: 6 (2 nodes and 4 leaves)\n",
      "\n"
     ]
    }
   ],
   "source": [
    "# read tree\n",
    "# Note that `date_bool` param is False by default; I specified \"False\" here just to be explicit\n",
    "tre = btu.austechia_read_tree(\"simpletree.tre\", date_bool=False, date_delim=\"_\")"
   ]
  },
  {
   "cell_type": "markdown",
   "metadata": {},
   "source": [
    "## 2. Some basic functions"
   ]
  },
  {
   "cell_type": "code",
   "execution_count": 3,
   "metadata": {},
   "outputs": [
    {
     "name": "stdout",
     "output_type": "stream",
     "text": [
      "tree height = 0.9000\n",
      "tree string = \n",
      "(('C':0.300000,'D':0.400000):0.500000,'A':0.100000,'B':0.200000):0.000000;\n"
     ]
    }
   ],
   "source": [
    "# Get all leaves in a list\n",
    "leaves_ls = tre.leaves\n",
    "\n",
    "# get all internal nodes in a list\n",
    "inodes_ls = tre.nodes\n",
    "\n",
    "# get all internal nodes and leaves in a list\n",
    "nodes_ls = tre.Objects\n",
    "\n",
    "# what's the height of the tree?\n",
    "print(\"tree height = %.4f\" % tre.treeHeight)\n",
    "\n",
    "# get the tree in newick format (very rarely used)\n",
    "treestring = tre.toString()\n",
    "print(\"tree string = \")\n",
    "print(treestring)\n",
    "\n",
    "# span of the y coordinates\n",
    "y_span = tre.ySpan"
   ]
  },
  {
   "cell_type": "markdown",
   "metadata": {},
   "source": [
    "## 3. Param Declaration Section\n",
    "\n",
    "Very elaborate. This is a very simple example, so it's easy to visualize what needs to go where, but be prepared to iteratively rerun this section and the next to do all manner of minor tweaks. "
   ]
  },
  {
   "cell_type": "code",
   "execution_count": 4,
   "metadata": {
    "collapsed": true
   },
   "outputs": [],
   "source": [
    "# =================================== PARAMS ===================================\n",
    "# LAYOUT\n",
    "fig_h = 5 # figure height\n",
    "fig_w = 8 # figure width\n",
    "# Note: A4 proportions are 210 x 297 mm. \n",
    "# Set according to these proportions, scaling up or down as required.\n",
    "\n",
    "# TREE PARAMS\n",
    "branchWidth=0.5 # line thickness of branches\n",
    "s=1 # tip shape size. \n",
    "x_offset= 0.00001\n",
    "#It may be necessary to push the tree to the left to make room for the legend\n",
    "#Otherwise, set this to an arbitrarily small number\n",
    "\n",
    "# TIPNAMES & C/N LINES\n",
    "tipname_x = tre.treeHeight * 1.02\n",
    "tipname_fontsize = 4\n",
    "\n",
    "# TEXT PARAMS\n",
    "title_text = \"My Simple Tree\"\n",
    "title_text_size = 20\n",
    "title_x = 0.0001\n",
    "title_y = 4\n",
    "tipname_x_offset = 0.01\n",
    "tipname_fontsize = 12\n"
   ]
  },
  {
   "cell_type": "markdown",
   "metadata": {},
   "source": [
    "## 4. Plot!"
   ]
  },
  {
   "cell_type": "code",
   "execution_count": 5,
   "metadata": {},
   "outputs": [
    {
     "data": {
      "image/png": "[encoded data removed]",
      "text/plain": [
       "<matplotlib.figure.Figure at 0x10c9ae4a8>"
      ]
     },
     "metadata": {},
     "output_type": "display_data"
    }
   ],
   "source": [
    "fig,ax = plt.subplots(figsize=(fig_w, fig_h),facecolor='w')\n",
    "\n",
    "\n",
    "for k in tre.Objects:\n",
    "    c = 'k'\n",
    "    x=k.height\n",
    "    y=k.y\n",
    "\n",
    "    xp = k.parent.height\n",
    "    if x is None: # matplotlib won't plot Nones, like root\n",
    "        x = x_offset\n",
    "    if xp==None:\n",
    "        xp = x + x_offset\n",
    "\n",
    "    if isinstance(k,bt.leaf) or k.branchType=='leaf':\n",
    "        ax.scatter(x, y, color=\"indianred\", zorder=12)\n",
    "        \n",
    "        # Draw tipname next to tip\n",
    "        ax.text(x+tipname_x_offset, y, \n",
    "                k.name.split(\"_\")[0], \n",
    "                verticalalignment=\"center\",\n",
    "                fontsize=tipname_fontsize)\n",
    "\n",
    "    elif isinstance(k,bt.node) or k.branchType=='node':\n",
    "        ax.plot([x,x],\n",
    "                [k.children[-1].y,k.children[0].y],\n",
    "                lw=branchWidth,\n",
    "                color='k',ls='-',zorder=9)\n",
    "\n",
    "    # Draw horizontal lines\n",
    "    ax.plot([xp,x],[y,y],lw=branchWidth,color='k',ls='-',zorder=9)\n",
    "\n",
    "# Add title\n",
    "ax.text(title_x, title_y, title_text, fontsize=title_text_size)\n",
    "\n",
    "# remove tick marks and borders\n",
    "ax.set_yticks([])\n",
    "ax.set_xticks([])\n",
    "plt.axis('off')\n",
    "plt.tight_layout()\n",
    "\n",
    "# Saves the figure to a png. pdf option also available. \n",
    "plt.savefig(\"my_simple_tre.png\", bbox_inches=\"tight\")\n",
    "\n",
    "plt.show()"
   ]
  },
  {
   "cell_type": "code",
   "execution_count": null,
   "metadata": {
    "collapsed": true
   },
   "outputs": [],
   "source": []
  }
 ],
 "metadata": {
  "kernelspec": {
   "display_name": "Python 3",
   "language": "python",
   "name": "python3"
  },
  "language_info": {
   "codemirror_mode": {
    "name": "ipython",
    "version": 3
   },
   "file_extension": ".py",
   "mimetype": "text/x-python",
   "name": "python",
   "nbconvert_exporter": "python",
   "pygments_lexer": "ipython3",
   "version": "3.6.1"
  }
 },
 "nbformat": 4,
 "nbformat_minor": 2
}
