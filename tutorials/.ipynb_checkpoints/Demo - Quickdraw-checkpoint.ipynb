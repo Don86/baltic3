{
 "cells": [
  {
   "cell_type": "markdown",
   "metadata": {},
   "source": [
    "# `quick_draw_tree()` Function Demo\n",
    "\n",
    "Quickly draws a fairly presentable tree, colouring some or all tips by some particular attribute of interest (e.g. country, location, etc. In this demo, we're after the column named `geoloc`\\*, which is the country. You'll need a tree file that's `baltic`-readable, and a `csv` file with a column of that attribute.\n",
    "\n",
    "\\* I try to avoid proper English words for variable names because these tend to be technical operators in whatever programming language you're using. e.g. Avoid using a parameter or column name like `length`, because there's normally a `length()` function in your programming langauge of choice (`length()` in R, `len()` in Python). Use something like `seq_length` instead - it's more specific anyway."
   ]
  },
  {
   "cell_type": "code",
   "execution_count": 2,
   "metadata": {},
   "outputs": [],
   "source": [
    "%matplotlib inline\n",
    "import matplotlib.pyplot as plt\n",
    "import matplotlib.patches as mpatches\n",
    "\n",
    "import numpy as np\n",
    "import pandas as pd\n",
    "import time\n",
    "\n",
    "import xio\n",
    "import baltic3 as bt\n",
    "import baltic3_utils as btu\n",
    "\n",
    "from Bio import Phylo\n",
    "\n",
    "path0=\"/users/dten0001/Google Drive/baltic3/\""
   ]
  },
  {
   "cell_type": "code",
   "execution_count": 3,
   "metadata": {},
   "outputs": [
    {
     "name": "stdout",
     "output_type": "stream",
     "text": [
      "Number of objects found in tree string: 1628\n",
      "\n",
      "Tree height: 0.155210\n",
      "Tree length: 2.051600\n",
      "\n",
      "Numbers of objects in tree: 1628 (766 nodes and 862 leaves)\n",
      "\n",
      "Highest tip date: 2017.7288\n"
     ]
    },
    {
     "data": {
      "text/html": [
       "<div>\n",
       "<style scoped>\n",
       "    .dataframe tbody tr th:only-of-type {\n",
       "        vertical-align: middle;\n",
       "    }\n",
       "\n",
       "    .dataframe tbody tr th {\n",
       "        vertical-align: top;\n",
       "    }\n",
       "\n",
       "    .dataframe thead th {\n",
       "        text-align: right;\n",
       "    }\n",
       "</style>\n",
       "<table border=\"1\" class=\"dataframe\">\n",
       "  <thead>\n",
       "    <tr style=\"text-align: right;\">\n",
       "      <th></th>\n",
       "      <th>v_nm</th>\n",
       "      <th>v_id</th>\n",
       "      <th>host</th>\n",
       "      <th>geoloc</th>\n",
       "      <th>cdate</th>\n",
       "      <th>seq</th>\n",
       "      <th>query</th>\n",
       "    </tr>\n",
       "  </thead>\n",
       "  <tbody>\n",
       "    <tr>\n",
       "      <th>0</th>\n",
       "      <td>KU501216</td>\n",
       "      <td>103344</td>\n",
       "      <td>Human</td>\n",
       "      <td>Guatemala</td>\n",
       "      <td>2015-12-01</td>\n",
       "      <td>----------------------------------------------...</td>\n",
       "      <td>KU501216|2015-12-01</td>\n",
       "    </tr>\n",
       "    <tr>\n",
       "      <th>1</th>\n",
       "      <td>KX262887</td>\n",
       "      <td>103451</td>\n",
       "      <td>Human</td>\n",
       "      <td>Honduras</td>\n",
       "      <td>2016-01-06</td>\n",
       "      <td>-----gttgttgatctgtgtgaatcagactgcgacagttcgagttt...</td>\n",
       "      <td>KX262887|2016-01-06</td>\n",
       "    </tr>\n",
       "    <tr>\n",
       "      <th>2</th>\n",
       "      <td>MF073359</td>\n",
       "      <td>15098</td>\n",
       "      <td>Human</td>\n",
       "      <td>Brazil</td>\n",
       "      <td>2015-03-01</td>\n",
       "      <td>----agttgttgatctgtgtgaatcagactgcgacagttcgagttt...</td>\n",
       "      <td>MF073359|2015-03-01</td>\n",
       "    </tr>\n",
       "    <tr>\n",
       "      <th>3</th>\n",
       "      <td>MF073358</td>\n",
       "      <td>15261</td>\n",
       "      <td>Human</td>\n",
       "      <td>Brazil</td>\n",
       "      <td>2015-06-01</td>\n",
       "      <td>----agttgttgatctgtgtgaatcagactgcgacagttcgagttt...</td>\n",
       "      <td>MF073358|2015-06-01</td>\n",
       "    </tr>\n",
       "    <tr>\n",
       "      <th>4</th>\n",
       "      <td>MF073357</td>\n",
       "      <td>16288</td>\n",
       "      <td>Human</td>\n",
       "      <td>Brazil</td>\n",
       "      <td>2016-02-01</td>\n",
       "      <td>----agttgttgatctgtgtgaatcagactgcgacagttcgagttt...</td>\n",
       "      <td>MF073357|2016-02-01</td>\n",
       "    </tr>\n",
       "  </tbody>\n",
       "</table>\n",
       "</div>"
      ],
      "text/plain": [
       "       v_nm    v_id   host     geoloc       cdate  \\\n",
       "0  KU501216  103344  Human  Guatemala  2015-12-01   \n",
       "1  KX262887  103451  Human   Honduras  2016-01-06   \n",
       "2  MF073359   15098  Human     Brazil  2015-03-01   \n",
       "3  MF073358   15261  Human     Brazil  2015-06-01   \n",
       "4  MF073357   16288  Human     Brazil  2016-02-01   \n",
       "\n",
       "                                                 seq                query  \n",
       "0  ----------------------------------------------...  KU501216|2015-12-01  \n",
       "1  -----gttgttgatctgtgtgaatcagactgcgacagttcgagttt...  KX262887|2016-01-06  \n",
       "2  ----agttgttgatctgtgtgaatcagactgcgacagttcgagttt...  MF073359|2015-03-01  \n",
       "3  ----agttgttgatctgtgtgaatcagactgcgacagttcgagttt...  MF073358|2015-06-01  \n",
       "4  ----agttgttgatctgtgtgaatcagactgcgacagttcgagttt...  MF073357|2016-02-01  "
      ]
     },
     "execution_count": 3,
     "metadata": {},
     "output_type": "execute_result"
    }
   ],
   "source": [
    "tre = btu.austechia_read_tree(path0+\"tutorials/zikv_id_only_ft.nex\", date_delim=\"|\")\n",
    "\n",
    "dm = pd.read_csv(path0+\"tutorials/zikv_m.csv\")\n",
    "\n",
    "# Add a 'query' column, which is actually just the tipnames already in zikv_id_only_ft.nex\n",
    "# This is so that as we iterate over the leaves of our tree, we can look up the attribute of each leaf\n",
    "# by searching by its name\n",
    "dm[\"query\"] = dm.apply(lambda row: str(row[\"v_nm\"])+\"|\"+str(row[\"cdate\"]), axis=1)\n",
    "dm.head()"
   ]
  },
  {
   "cell_type": "code",
   "execution_count": null,
   "metadata": {},
   "outputs": [],
   "source": [
    "# Reading off the metadata dataframe, assign the attribute of interest to each leaf.traits attribute\n",
    "tre = btu.assign_leaf_trait(tre, dm, \"query\", \"geoloc\")\n",
    "\n",
    "btu.quick_draw_tree(tre, colour_by='geoloc', values_of_interest=[\"Singapore\", \"USA\", \"Brazil\", \"Nicaragua\"],\n",
    "                    branch_colour=\"gray\")\n"
   ]
  },
  {
   "cell_type": "code",
   "execution_count": 4,
   "metadata": {},
   "outputs": [
    {
     "name": "stdout",
     "output_type": "stream",
     "text": [
      "Help on function quick_draw_tree in module baltic3_utils:\n",
      "\n",
      "quick_draw_tree(tree, colour_by='', values_of_interest=[], fig_h=12, fig_w=9, branch_width=0.5, branch_colour='black', tip_shape_size=8, x_offset=0, save_fn='', verbose=True, show_borders=False)\n",
      "    Draws a tree, and colours a set of tips based on an (optional) input dataframe, dm, with a column of interest, `colname`. \n",
      "    \n",
      "    Params\n",
      "    ------\n",
      "    tree: input baltic tree.\n",
      "    colour_by: str; trait key name to colour the tips by.\n",
      "    values_of_interest: list of str; the traits of interest. If left as an empty list, will grab all possible values\n",
      "    in the colour_by trait key value. WARNING: this could result in too many possible colour values to map. \n",
      "    fig_h: float; figure height.\n",
      "    fig_w: float; figure width.\n",
      "    branch_width: float; branch width (line weight).\n",
      "    branch_colour: str; branch colour. Default black. \n",
      "    tip_shape_size: float; tip shape size.\n",
      "    x_offset: float; x_offset. The root is placed at x=0 by default. \n",
      "    save_fn: str; output filename. Does not save if left blank.\n",
      "    verbose: Boolean; verbosity param\n",
      "    show_borders: Boolean; if true, show axes and border elements. \n",
      "    \n",
      "    Returns\n",
      "    -------\n",
      "    Tree plot on the active notebook.\n",
      "\n"
     ]
    }
   ],
   "source": [
    "# Need help? Check the function docs:\n",
    "help(btu.quick_draw_tree)"
   ]
  },
  {
   "cell_type": "code",
   "execution_count": null,
   "metadata": {},
   "outputs": [],
   "source": []
  }
 ],
 "metadata": {
  "kernelspec": {
   "display_name": "Python 3",
   "language": "python",
   "name": "python3"
  },
  "language_info": {
   "codemirror_mode": {
    "name": "ipython",
    "version": 3
   },
   "file_extension": ".py",
   "mimetype": "text/x-python",
   "name": "python",
   "nbconvert_exporter": "python",
   "pygments_lexer": "ipython3",
   "version": "3.6.3"
  }
 },
 "nbformat": 4,
 "nbformat_minor": 2
}
