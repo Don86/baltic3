{
 "cells": [
  {
   "cell_type": "markdown",
   "metadata": {},
   "source": [
    "# `quick_draw_tree()` Function Demo\n",
    "\n",
    "Quickly draws a fairly presentable tree, colouring some or all tips by some particular attribute of interest (e.g. country, location, etc. In this demo, we're after the column named `geoloc`\\*, which is the country. You'll need a tree file that's `baltic`-readable, and a `csv` file with a column of that attribute.\n",
    "\n",
    "\\* I try to avoid proper English words for variable names because these tend to be technical operators in whatever programming language you're using. e.g. Avoid using a parameter or column name like `length`, because there's normally a `length()` function in your programming langauge of choice (`length()` in R, `len()` in Python). Use something like `seq_length` instead - it's more specific anyway."
   ]
  },
  {
   "cell_type": "code",
   "execution_count": 1,
   "metadata": {},
   "outputs": [],
   "source": [
    "%matplotlib inline\n",
    "import matplotlib.pyplot as plt\n",
    "import matplotlib.patches as mpatches\n",
    "\n",
    "import numpy as np\n",
    "import pandas as pd\n",
    "import time\n",
    "\n",
    "import baltic3 as bt\n",
    "import baltic3_utils as btu\n",
    "\n",
    "path0=\"/users/dten0001/Google Drive/baltic3/\""
   ]
  },
  {
   "cell_type": "code",
   "execution_count": 2,
   "metadata": {},
   "outputs": [
    {
     "name": "stdout",
     "output_type": "stream",
     "text": [
      "\n",
      "Tree height: 0.155210\n",
      "Tree length: 2.051600\n",
      "\n",
      "Numbers of objects in tree: 1628 (766 nodes and 862 leaves)\n",
      "\n"
     ]
    },
    {
     "data": {
      "text/html": [
       "<div>\n",
       "<style scoped>\n",
       "    .dataframe tbody tr th:only-of-type {\n",
       "        vertical-align: middle;\n",
       "    }\n",
       "\n",
       "    .dataframe tbody tr th {\n",
       "        vertical-align: top;\n",
       "    }\n",
       "\n",
       "    .dataframe thead th {\n",
       "        text-align: right;\n",
       "    }\n",
       "</style>\n",
       "<table border=\"1\" class=\"dataframe\">\n",
       "  <thead>\n",
       "    <tr style=\"text-align: right;\">\n",
       "      <th></th>\n",
       "      <th>v_nm</th>\n",
       "      <th>v_id</th>\n",
       "      <th>host</th>\n",
       "      <th>geoloc</th>\n",
       "      <th>cdate</th>\n",
       "      <th>seq</th>\n",
       "      <th>query</th>\n",
       "    </tr>\n",
       "  </thead>\n",
       "  <tbody>\n",
       "    <tr>\n",
       "      <th>0</th>\n",
       "      <td>KU501216</td>\n",
       "      <td>103344</td>\n",
       "      <td>Human</td>\n",
       "      <td>Guatemala</td>\n",
       "      <td>2015-12-01</td>\n",
       "      <td>----------------------------------------------...</td>\n",
       "      <td>KU501216|2015-12-01</td>\n",
       "    </tr>\n",
       "    <tr>\n",
       "      <th>1</th>\n",
       "      <td>KX262887</td>\n",
       "      <td>103451</td>\n",
       "      <td>Human</td>\n",
       "      <td>Honduras</td>\n",
       "      <td>2016-01-06</td>\n",
       "      <td>-----gttgttgatctgtgtgaatcagactgcgacagttcgagttt...</td>\n",
       "      <td>KX262887|2016-01-06</td>\n",
       "    </tr>\n",
       "    <tr>\n",
       "      <th>2</th>\n",
       "      <td>MF073359</td>\n",
       "      <td>15098</td>\n",
       "      <td>Human</td>\n",
       "      <td>Brazil</td>\n",
       "      <td>2015-03-01</td>\n",
       "      <td>----agttgttgatctgtgtgaatcagactgcgacagttcgagttt...</td>\n",
       "      <td>MF073359|2015-03-01</td>\n",
       "    </tr>\n",
       "    <tr>\n",
       "      <th>3</th>\n",
       "      <td>MF073358</td>\n",
       "      <td>15261</td>\n",
       "      <td>Human</td>\n",
       "      <td>Brazil</td>\n",
       "      <td>2015-06-01</td>\n",
       "      <td>----agttgttgatctgtgtgaatcagactgcgacagttcgagttt...</td>\n",
       "      <td>MF073358|2015-06-01</td>\n",
       "    </tr>\n",
       "    <tr>\n",
       "      <th>4</th>\n",
       "      <td>MF073357</td>\n",
       "      <td>16288</td>\n",
       "      <td>Human</td>\n",
       "      <td>Brazil</td>\n",
       "      <td>2016-02-01</td>\n",
       "      <td>----agttgttgatctgtgtgaatcagactgcgacagttcgagttt...</td>\n",
       "      <td>MF073357|2016-02-01</td>\n",
       "    </tr>\n",
       "  </tbody>\n",
       "</table>\n",
       "</div>"
      ],
      "text/plain": [
       "       v_nm    v_id   host     geoloc       cdate  \\\n",
       "0  KU501216  103344  Human  Guatemala  2015-12-01   \n",
       "1  KX262887  103451  Human   Honduras  2016-01-06   \n",
       "2  MF073359   15098  Human     Brazil  2015-03-01   \n",
       "3  MF073358   15261  Human     Brazil  2015-06-01   \n",
       "4  MF073357   16288  Human     Brazil  2016-02-01   \n",
       "\n",
       "                                                 seq                query  \n",
       "0  ----------------------------------------------...  KU501216|2015-12-01  \n",
       "1  -----gttgttgatctgtgtgaatcagactgcgacagttcgagttt...  KX262887|2016-01-06  \n",
       "2  ----agttgttgatctgtgtgaatcagactgcgacagttcgagttt...  MF073359|2015-03-01  \n",
       "3  ----agttgttgatctgtgtgaatcagactgcgacagttcgagttt...  MF073358|2015-06-01  \n",
       "4  ----agttgttgatctgtgtgaatcagactgcgacagttcgagttt...  MF073357|2016-02-01  "
      ]
     },
     "execution_count": 2,
     "metadata": {},
     "output_type": "execute_result"
    }
   ],
   "source": [
    "tre = btu.austechia_read_tree(path0+\"tutorials/zikv_id_only_ft.nex\", date_delim=\"|\")\n",
    "\n",
    "dm = pd.read_csv(path0+\"tutorials/zikv_m.csv\")\n",
    "\n",
    "# Add a 'query' column, which is actually just the tipnames already in zikv_id_only_ft.nex\n",
    "# This is so that as we iterate over the leaves of our tree, we can look up the attribute of each leaf\n",
    "# by searching by its name\n",
    "dm[\"query\"] = dm.apply(lambda row: str(row[\"v_nm\"])+\"|\"+str(row[\"cdate\"]), axis=1)\n",
    "dm.head()"
   ]
  },
  {
   "cell_type": "code",
   "execution_count": 3,
   "metadata": {},
   "outputs": [
    {
     "data": {
      "image/png": "[encoded data removed]",
      "text/plain": [
       "<Figure size 648x864 with 1 Axes>"
      ]
     },
     "metadata": {},
     "output_type": "display_data"
    }
   ],
   "source": [
    "# Draw just the tree\n",
    "btu.quick_draw_tree(tre)"
   ]
  },
  {
   "cell_type": "code",
   "execution_count": null,
   "metadata": {},
   "outputs": [],
   "source": [
    "# To highlight a few attributes, read off the metadata dataframe\n",
    "# assign the attribute of interest to each leaf.traits attribute\n",
    "tre = btu.assign_leaf_trait(tre, dm, \"query\", \"geoloc\")\n",
    "\n",
    "btu.quick_draw_tree(tre, \n",
    "                    colour_by='geoloc', \n",
    "                    values_of_interest=[\"Singapore\", \"USA\", \"Brazil\", \"Nicaragua\"],\n",
    "                    branch_colour=\"gray\")\n"
   ]
  },
  {
   "cell_type": "code",
   "execution_count": null,
   "metadata": {},
   "outputs": [],
   "source": [
    "# Need help? Check the function docs:\n",
    "help(btu.quick_draw_tree)"
   ]
  },
  {
   "cell_type": "code",
   "execution_count": null,
   "metadata": {},
   "outputs": [],
   "source": []
  }
 ],
 "metadata": {
  "kernelspec": {
   "display_name": "Python 3",
   "language": "python",
   "name": "python3"
  },
  "language_info": {
   "codemirror_mode": {
    "name": "ipython",
    "version": 2
   },
   "file_extension": ".py",
   "mimetype": "text/x-python",
   "name": "python",
   "nbconvert_exporter": "python",
   "pygments_lexer": "ipython2",
   "version": "2.7.15"
  }
 },
 "nbformat": 4,
 "nbformat_minor": 2
}
