{
 "cells": [
  {
   "cell_type": "markdown",
   "metadata": {},
   "source": [
    "# Tutorial 2 - More Realistic Example\n",
    "\n",
    "This tutorial plots a ZIKV tree with 862 sequences, generated using `FastTree`. The tips of each tree in the `.nex` file are named only with the Genbank accession number, and there's a separate metadata csv containing a bunch more metadata associated with each each tip (sequence). \n",
    "\n",
    "Additional complications in this exercise:\n",
    "\n",
    "* Retrieve metadata (country) from a `csv` file.\n",
    "* Colour the tips which come from Singapore, USA or Australia\n",
    "* Draw a legend\n",
    "\n",
    "As an aside, this demonstrates two ways to set up your data: either have all relevant metadata in the fasta header, so that you'll only ever need to work with a single fasta file (my preferred method), or allocate some unique identifier for each sequence, and work with a fasta file which only has this unique identifier in the header, plus a csv with the rest of the metadata. "
   ]
  },
  {
   "cell_type": "code",
   "execution_count": 1,
   "metadata": {},
   "outputs": [],
   "source": [
    "%matplotlib inline\n",
    "import matplotlib.pyplot as plt\n",
    "import matplotlib as mpl\n",
    "mpl.rcParams[\"pdf.fonttype\"]=42\n",
    "mpl.rcParams['ps.fonttype']=42\n",
    "\n",
    "import numpy as np\n",
    "import pandas as pd\n",
    "import time\n",
    "\n",
    "from Bio import Phylo\n",
    "\n",
    "import xio\n",
    "import baltic3 as bt\n",
    "import baltic3_utils as btu"
   ]
  },
  {
   "cell_type": "code",
   "execution_count": 2,
   "metadata": {},
   "outputs": [
    {
     "name": "stdout",
     "output_type": "stream",
     "text": [
      "Number of objects found in tree string: 1628\n",
      "\n",
      "Tree height: 0.155210\n",
      "Tree length: 2.051600\n",
      "\n",
      "Numbers of objects in tree: 1628 (766 nodes and 862 leaves)\n",
      "\n",
      "Highest tip date: 2017.7288\n"
     ]
    }
   ],
   "source": [
    "# Load tree\n",
    "tre = btu.austechia_read_tree(\"zikv_id_only_ft.nex\", date_delim=\"|\")\n",
    "\n",
    "# Load metadata file\n",
    "dm = pd.read_csv(\"zikv_m.csv\")"
   ]
  },
  {
   "cell_type": "code",
   "execution_count": 3,
   "metadata": {},
   "outputs": [
    {
     "data": {
      "text/html": [
       "<div>\n",
       "<style scoped>\n",
       "    .dataframe tbody tr th:only-of-type {\n",
       "        vertical-align: middle;\n",
       "    }\n",
       "\n",
       "    .dataframe tbody tr th {\n",
       "        vertical-align: top;\n",
       "    }\n",
       "\n",
       "    .dataframe thead th {\n",
       "        text-align: right;\n",
       "    }\n",
       "</style>\n",
       "<table border=\"1\" class=\"dataframe\">\n",
       "  <thead>\n",
       "    <tr style=\"text-align: right;\">\n",
       "      <th></th>\n",
       "      <th>v_nm</th>\n",
       "      <th>v_id</th>\n",
       "      <th>host</th>\n",
       "      <th>geoloc</th>\n",
       "      <th>cdate</th>\n",
       "      <th>seq</th>\n",
       "    </tr>\n",
       "  </thead>\n",
       "  <tbody>\n",
       "    <tr>\n",
       "      <th>0</th>\n",
       "      <td>KU501216</td>\n",
       "      <td>103344</td>\n",
       "      <td>Human</td>\n",
       "      <td>Guatemala</td>\n",
       "      <td>2015-12-01</td>\n",
       "      <td>----------------------------------------------...</td>\n",
       "    </tr>\n",
       "    <tr>\n",
       "      <th>1</th>\n",
       "      <td>KX262887</td>\n",
       "      <td>103451</td>\n",
       "      <td>Human</td>\n",
       "      <td>Honduras</td>\n",
       "      <td>2016-01-06</td>\n",
       "      <td>-----gttgttgatctgtgtgaatcagactgcgacagttcgagttt...</td>\n",
       "    </tr>\n",
       "    <tr>\n",
       "      <th>2</th>\n",
       "      <td>MF073359</td>\n",
       "      <td>15098</td>\n",
       "      <td>Human</td>\n",
       "      <td>Brazil</td>\n",
       "      <td>2015-03-01</td>\n",
       "      <td>----agttgttgatctgtgtgaatcagactgcgacagttcgagttt...</td>\n",
       "    </tr>\n",
       "    <tr>\n",
       "      <th>3</th>\n",
       "      <td>MF073358</td>\n",
       "      <td>15261</td>\n",
       "      <td>Human</td>\n",
       "      <td>Brazil</td>\n",
       "      <td>2015-06-01</td>\n",
       "      <td>----agttgttgatctgtgtgaatcagactgcgacagttcgagttt...</td>\n",
       "    </tr>\n",
       "    <tr>\n",
       "      <th>4</th>\n",
       "      <td>MF073357</td>\n",
       "      <td>16288</td>\n",
       "      <td>Human</td>\n",
       "      <td>Brazil</td>\n",
       "      <td>2016-02-01</td>\n",
       "      <td>----agttgttgatctgtgtgaatcagactgcgacagttcgagttt...</td>\n",
       "    </tr>\n",
       "  </tbody>\n",
       "</table>\n",
       "</div>"
      ],
      "text/plain": [
       "       v_nm    v_id   host     geoloc       cdate  \\\n",
       "0  KU501216  103344  Human  Guatemala  2015-12-01   \n",
       "1  KX262887  103451  Human   Honduras  2016-01-06   \n",
       "2  MF073359   15098  Human     Brazil  2015-03-01   \n",
       "3  MF073358   15261  Human     Brazil  2015-06-01   \n",
       "4  MF073357   16288  Human     Brazil  2016-02-01   \n",
       "\n",
       "                                                 seq  \n",
       "0  ----------------------------------------------...  \n",
       "1  -----gttgttgatctgtgtgaatcagactgcgacagttcgagttt...  \n",
       "2  ----agttgttgatctgtgtgaatcagactgcgacagttcgagttt...  \n",
       "3  ----agttgttgatctgtgtgaatcagactgcgacagttcgagttt...  \n",
       "4  ----agttgttgatctgtgtgaatcagactgcgacagttcgagttt...  "
      ]
     },
     "execution_count": 3,
     "metadata": {},
     "output_type": "execute_result"
    }
   ],
   "source": [
    "# Preview the first 5 rows of dm\n",
    "# The unique identifier is in the column 'v_nm'\n",
    "dm.head()"
   ]
  },
  {
   "cell_type": "markdown",
   "metadata": {},
   "source": [
    "We'll draw little circles at the tips from Singapore, USA or Australia, coloured according the dictionary `cdict` as defined in the cell above. We'll also draw a legend on our figure. Unfortunately, we'll have to do this legend manually, instead of using the inbuilt `fig.legend()` object (Doesn't matter if you don't know what that is). \n",
    "\n",
    "Our legend will be drawn as squares, where the heights, widths, exact coordinates and so on have to be defined exactly. The next cell shows the relevant `matplotlib` imports; remember that I usually define all imports at the very first cell. "
   ]
  },
  {
   "cell_type": "code",
   "execution_count": 4,
   "metadata": {},
   "outputs": [],
   "source": [
    "# =================================== PARAMS ===================================\n",
    "# LAYOUT\n",
    "fig_h = 12 # figure height\n",
    "fig_w = 9 # figure width\n",
    "\n",
    "# TREE PARAMS\n",
    "branchWidth=0.5 # line thickness of branches\n",
    "tip_shape_size=12 # tip shape size. \n",
    "x_offset= 0.00001\n",
    "#It may be necessary to push the tree to the left to make room for the legend\n",
    "#Otherwise, set this to an arbitrarily small number\n",
    "\n",
    "# TEXT PARAMS\n",
    "title_text = \"ZIKV\"\n",
    "title_text_size = 30\n",
    "title_x = 0.0001\n",
    "title_y = tre.ySpan*0.9\n",
    "tipname_x_offset = 0.01\n",
    "tipname_fontsize = 12\n",
    "\n",
    "# COLOUR DICTIONARY\n",
    "cdict = {\"Singapore\":\"indianred\", \"USA\":\"steelblue\", \"Australia\":\"green\"}\n",
    "\n",
    "# Matplotlib import required to draw rectangles (for the legend)\n",
    "import matplotlib.patches as patches\n",
    "rect_w = 0.01\n",
    "rect_h = 35\n",
    "rect_h_spacing = 0.2*rect_h # spacing between rectangles\n",
    "rect_x0 = 0 # x-coordinate of the bottom left corner of the bottom-most legend rect\n",
    "rect_y0 = 600 # y-coordinate of the bottom left corner of the bottom-most legend rect\n",
    "fig_text_size = 20"
   ]
  },
  {
   "cell_type": "code",
   "execution_count": 6,
   "metadata": {},
   "outputs": [
    {
     "name": "stdout",
     "output_type": "stream",
     "text": [
      "Done in 6.17s\n"
     ]
    },
    {
     "data": {
      "image/png": "[encoded data removed]",
      "text/plain": [
       "<matplotlib.figure.Figure at 0x113bfef60>"
      ]
     },
     "metadata": {},
     "output_type": "display_data"
    }
   ],
   "source": [
    "t0 = time.time()\n",
    "fig,ax = plt.subplots(figsize=(fig_w, fig_h),facecolor='w')\n",
    "\n",
    "for k in tre.Objects:\n",
    "    c = 'k'\n",
    "    x=k.height\n",
    "    y=k.y\n",
    "\n",
    "    xp = k.parent.height\n",
    "    if x is None: # matplotlib won't plot Nones, like root\n",
    "        x = x_offset\n",
    "    if xp==None:\n",
    "        xp = x + x_offset\n",
    "\n",
    "    if isinstance(k,bt.leaf) or k.branchType=='leaf':\n",
    "        # Get the country from the metadata sheet\n",
    "        my_id = k.name.split(\"|\")[0]\n",
    "        d_t = dm.loc[dm[\"v_nm\"]==my_id]\n",
    "        if len(d_t) != 1:\n",
    "            print(\"WARNING: Problems retrieving country for ID %s!\" % my_id)\n",
    "        else:\n",
    "            country = d_t[\"geoloc\"].values[0]\n",
    "            if country in list(cdict.keys()):\n",
    "                ax.scatter(x, y, c=cdict[country], s=tip_shape_size)\n",
    "\n",
    "    elif isinstance(k,bt.node) or k.branchType=='node':\n",
    "        ax.plot([x,x],\n",
    "                [k.children[-1].y,k.children[0].y],\n",
    "                lw=branchWidth,\n",
    "                color=\"k\",ls='-',zorder=9)\n",
    "\n",
    "    # Draw horizontal lines\n",
    "    ax.plot([xp,x],[y,y],lw=branchWidth,color=\"k\",ls='-',zorder=9)\n",
    "\n",
    "# ==================== Figure Legend ====================\n",
    "countries_ls = [\"Singapore\", \"USA\", \"Australia\"]\n",
    "# Note that you can also use list(cdict.keys())\n",
    "# but using a pre-defined list enforces iteration over that list in a particular order\n",
    "# cdict.keys() kind of has a mind of its own, and does NOT always return a list in lexicographic order\n",
    "for i in range(len(countries_ls)):\n",
    "    # define coords, with a bit of maths\n",
    "    x = rect_x0\n",
    "    y = rect_y0 + (i*rect_h) + (i*rect_h_spacing)\n",
    "    # create a 'Rectangle' patch\n",
    "    rect = patches.Rectangle((x, y), # x,y coordinates, as a tuple\n",
    "                             rect_w, # rectangle width\n",
    "                             rect_h, # rectangle height\n",
    "                             color=cdict[countries_ls[i]] # colour\n",
    "                            )\n",
    "    # add `rect` to the ax object\n",
    "    ax.add_patch(rect)\n",
    "    \n",
    "    # Add figure text\n",
    "    ax.text(x+(rect_w*1.01), y, countries_ls[i], fontsize=fig_text_size)\n",
    "\n",
    "\n",
    "# title text\n",
    "ax.text(title_x, title_y, title_text, fontsize=title_text_size)\n",
    "\n",
    "# ==================== remove tick marks and borders ====================\n",
    "#ax.set_yticks([])\n",
    "#ax.set_xticks([])\n",
    "#plt.axis('off')\n",
    "plt.tight_layout()\n",
    "\n",
    "# Save the figure to a pdf. \n",
    "#plt.savefig(\"my_zikv_tre.pdf\", bbox_inches=\"tight\")\n",
    "print(\"Done in %.2fs\" % (time.time() - t0))\n",
    "\n",
    "plt.show()"
   ]
  },
  {
   "cell_type": "markdown",
   "metadata": {},
   "source": [
    "# Bonus: Colouring (monophyletic) clades\n",
    "\n",
    "Each `node` object has a `traits` attribute (i.e. `node.traits`), which is a dictionary of whatever you want."
   ]
  },
  {
   "cell_type": "code",
   "execution_count": 7,
   "metadata": {},
   "outputs": [],
   "source": [
    "inodes_ls = tre.nodes\n",
    "\n",
    "# iterate over all nodes, node.traits dictionary with the associated country\n",
    "# if all leaves of that node belong to the same country\n",
    "# This code is actually pretty inefficient\n",
    "my_tmrca = \"*\"\n",
    "for nd in inodes_ls:\n",
    "    leaves_ls_temp = nd.leaves\n",
    "    leaves_ls_temp = [x.split(\"|\")[0] for x in leaves_ls_temp]\n",
    "    geoloc_ls = []\n",
    "    for i in range(len(leaves_ls_temp)):\n",
    "        geoloc = dm.loc[dm[\"v_nm\"]==leaves_ls_temp[i]][\"geoloc\"].values[0]\n",
    "        geoloc_ls.append(geoloc)\n",
    "    if set(geoloc_ls) == {\"Singapore\"}:\n",
    "        nd.traits[\"country\"] = \"Singapore\"\n",
    "    elif set(geoloc_ls) == {\"USA\"}:\n",
    "        nd.traits[\"country\"] = \"USA\"\n",
    "    elif set(geoloc_ls) == {\"Australia\"}:\n",
    "        nd.traits[\"country\"] = \"Australia\"\n",
    "    else:\n",
    "        nd.traits[\"country\"] = \"*\"\n"
   ]
  },
  {
   "cell_type": "code",
   "execution_count": 8,
   "metadata": {},
   "outputs": [
    {
     "name": "stdout",
     "output_type": "stream",
     "text": [
      "Done in 4.57s\n"
     ]
    },
    {
     "data": {
      "image/png": "[encoded data removed]",
      "text/plain": [
       "<matplotlib.figure.Figure at 0x11dc739b0>"
      ]
     },
     "metadata": {},
     "output_type": "display_data"
    }
   ],
   "source": [
    "t0 = time.time()\n",
    "fig,ax = plt.subplots(figsize=(fig_w, fig_h),facecolor='w')\n",
    "\n",
    "for k in tre.Objects:\n",
    "    c = 'k'\n",
    "    x=k.height\n",
    "    y=k.y\n",
    "\n",
    "    xp = k.parent.height\n",
    "    if x is None: # matplotlib won't plot Nones, like root\n",
    "        x = x_offset\n",
    "    if xp==None:\n",
    "        xp = x + x_offset\n",
    "\n",
    "    if isinstance(k,bt.leaf) or k.branchType=='leaf':\n",
    "        pass\n",
    "\n",
    "    elif isinstance(k,bt.node) or k.branchType=='node':\n",
    "        branch_c = \"k\"\n",
    "        if k.traits['country'] in [\"Singapore\", \"Australia\", \"USA\"]:\n",
    "            branch_c=cdict[k.traits['country']]\n",
    "\n",
    "        ax.plot([x,x],\n",
    "                [k.children[-1].y,k.children[0].y],\n",
    "                lw=branchWidth,\n",
    "                color=branch_c,ls='-',zorder=9)\n",
    "\n",
    "    # Draw horizontal lines\n",
    "    ax.plot([xp,x],[y,y],lw=branchWidth,color=branch_c,ls='-',zorder=9)\n",
    "\n",
    "# title text\n",
    "ax.text(title_x, title_y, title_text, fontsize=title_text_size)\n",
    "\n",
    "# ==================== remove tick marks and borders ====================\n",
    "#ax.set_yticks([])\n",
    "#ax.set_xticks([])\n",
    "#plt.axis('off')\n",
    "plt.tight_layout()\n",
    "\n",
    "# Save the figure to a pdf. \n",
    "#plt.savefig(\"my_zikv_tre.pdf\", bbox_inches=\"tight\")\n",
    "print(\"Done in %.2fs\" % (time.time() - t0))\n",
    "\n",
    "plt.show()"
   ]
  },
  {
   "cell_type": "code",
   "execution_count": null,
   "metadata": {},
   "outputs": [],
   "source": []
  }
 ],
 "metadata": {
  "kernelspec": {
   "display_name": "Python 3",
   "language": "python",
   "name": "python3"
  },
  "language_info": {
   "codemirror_mode": {
    "name": "ipython",
    "version": 3
   },
   "file_extension": ".py",
   "mimetype": "text/x-python",
   "name": "python",
   "nbconvert_exporter": "python",
   "pygments_lexer": "ipython3",
   "version": "3.6.3"
  }
 },
 "nbformat": 4,
 "nbformat_minor": 2
}
