{
 "cells": [
  {
   "cell_type": "markdown",
   "metadata": {},
   "source": [
    "# Tutorial 1 Basics\n",
    "\n",
    "Tutorial prerequisites:\n",
    "\n",
    " * Answer this question with pen and paper, without looking up any references:\n",
    "\n",
    ">Write a program that prints the numbers from 1 to 100. But for multiples of 3, print “Fizz” instead of the number and for the multiples of 5, print “Buzz”. For numbers which are multiples of both 3 and 5 print “FizzBuzz”.\"\n",
    " \n",
    " * Python3 setup: how to start up a Jupyter notebook, install and load `baltic3` modules for use. Optionally, how to set a `PYTHONPATH`.\n",
    " * Required libraries: `pandas` (mostly) and `numpy` (rarely). \n",
    " * Some prior experience with `matplotlib`, or `ggplot` from R. i.e. you've at least drawn a basic figure in command line before."
   ]
  },
  {
   "cell_type": "code",
   "execution_count": 1,
   "metadata": {
    "collapsed": true
   },
   "outputs": [],
   "source": [
    "%matplotlib inline\n",
    "import matplotlib.pyplot as plt\n",
    "import matplotlib.patches as patches\n",
    "from matplotlib.collections import PatchCollection, LineCollection\n",
    "#import matplotlib.path as mpath\n",
    "#import matplotlib.lines as mlines\n",
    "#import seaborn as sns\n",
    "\n",
    "import numpy as np\n",
    "import pandas as pd\n",
    "import os\n",
    "#os.chdir(\"/users/dten0001/Google Drive/baltic3/examples\")\n",
    "import sys\n",
    "from functools import reduce\n",
    "import subprocess\n",
    "import time\n",
    "from Bio import Phylo\n",
    "\n",
    "# Set random state\n",
    "my_randomstate = np.random.RandomState(12345)\n",
    "\n",
    "import xio\n",
    "import my_utils as xu\n",
    "import biophylo_utils as bpu\n",
    "import baltic3 as bt\n",
    "import baltic3_utils as btu\n"
   ]
  },
  {
   "cell_type": "markdown",
   "metadata": {},
   "source": [
    "## Baltic Objects, and a simple Plot"
   ]
  },
  {
   "cell_type": "code",
   "execution_count": 2,
   "metadata": {},
   "outputs": [
    {
     "name": "stdout",
     "output_type": "stream",
     "text": [
      "Number of objects found in tree string: 1199\n",
      "\n",
      "Tree height: 0.026984\n",
      "Tree length: 1.004646\n",
      "strictly bifurcating tree\n",
      "\n",
      "Numbers of objects in tree: 1199 (599 nodes and 600 leaves)\n",
      "\n",
      "Highest tip date: 2017.0082\n"
     ]
    }
   ],
   "source": [
    "# load tree. This will print out a bunch of stats as well\n",
    "bt_tre = btu.austechia_read_tree(\"H3_test_tree.nex\", date_delim=\"|\")"
   ]
  },
  {
   "cell_type": "markdown",
   "metadata": {},
   "source": [
    "### Leaf objects\n",
    "\n",
    "Each leaf object has a name, and (x, y) coordinates - the coordinates are the `height` and `y` attributes of the `leaf` class. We'll be using these to plot exactly where they're supposed to be.\n",
    "\n",
    "Node objects have (`height`, `y`) coordinates as well, but don't have names, which actually makes referencing pretty difficult."
   ]
  },
  {
   "cell_type": "code",
   "execution_count": null,
   "metadata": {},
   "outputs": [],
   "source": [
    "# Read the tipnames of the tree into a list\n",
    "leaves_ls = bt_tre.leaves\n",
    "\n",
    "my_leaf = leaves_ls[0]\n",
    "print(\"leaf name = %s \" % my_leaf.name)\n",
    "print(\"leaf coordinates = (%s, %s)\" % (my_leaf.height, my_leaf.y))\n",
    "\n",
    "# Read all node and leaf objects of the tree into a list\n",
    "obj_ls = bt_tre.Objects"
   ]
  },
  {
   "cell_type": "markdown",
   "metadata": {},
   "source": [
    "All nodes and leaves have (x, y) coordinates. We'll draw the tips as red circles, then connect the nodes and tips with black lines."
   ]
  },
  {
   "cell_type": "code",
   "execution_count": null,
   "metadata": {
    "collapsed": true
   },
   "outputs": [],
   "source": [
    "def draw_tree(my_tree, \n",
    "              branch_width=1, \n",
    "              tipsize=20, \n",
    "              tip_colour=\"red\"):\n",
    "    \"\"\"Draws a simple tree with black branches and red tips.\n",
    "    \n",
    "    PARAMS\n",
    "    ------\n",
    "    my_tree: a baltic tree object\n",
    "    branch_width: float. Branch thickness\n",
    "    tipsize: float. Size of tip shape\n",
    "    tip_colour: string. Colour of tip shape\n",
    "    \n",
    "    RETURNS\n",
    "    -------\n",
    "    Plots the tree. \n",
    "    \"\"\"\n",
    "    patches_ls = []\n",
    "    lines_ls = []\n",
    "    \n",
    "    fig,ax = plt.subplots(figsize=(11,14),facecolor='w')\n",
    "\n",
    "    for k in my_tree.Objects:\n",
    "        c = 'k'\n",
    "        x=k.height # raw (x, y) coords\n",
    "        y=k.y\n",
    "\n",
    "        xp = k.parent.height\n",
    "        if x is None: # matplotlib won't plot Nones, like root\n",
    "            x = 0\n",
    "        if xp==None:\n",
    "            xp = x\n",
    "\n",
    "        if isinstance(k,bt.leaf) or k.branchType=='leaf':\n",
    "            ax.scatter(x,y,s=tipsize,facecolor=\"red\",edgecolor='none',zorder=11, alpha=0.4)\n",
    "\n",
    "        elif isinstance(k,bt.node) or k.branchType=='node':\n",
    "            line = np.array([[x, k.children[0].y], [x, k.children[-1].y]])\n",
    "            lines_ls.append(line)\n",
    "               \n",
    "        line = np.array([[xp, y], [x, y]])\n",
    "        lines_ls.append(line)\n",
    "        \n",
    "    line_collection = LineCollection(lines_ls, lw=branch_width,color='k', zorder=10)\n",
    "    ax.add_collection(line_collection)\n",
    "\n",
    "    plt.tight_layout()\n",
    "    plt.show()"
   ]
  },
  {
   "cell_type": "code",
   "execution_count": null,
   "metadata": {},
   "outputs": [],
   "source": [
    "draw_tree(bt_tre, branch_width=0.5)"
   ]
  },
  {
   "cell_type": "code",
   "execution_count": null,
   "metadata": {
    "collapsed": true
   },
   "outputs": [],
   "source": []
  }
 ],
 "metadata": {
  "kernelspec": {
   "display_name": "Python 3",
   "language": "python",
   "name": "python3"
  },
  "language_info": {
   "codemirror_mode": {
    "name": "ipython",
    "version": 3
   },
   "file_extension": ".py",
   "mimetype": "text/x-python",
   "name": "python",
   "nbconvert_exporter": "python",
   "pygments_lexer": "ipython3",
   "version": "3.6.3"
  }
 },
 "nbformat": 4,
 "nbformat_minor": 2
}
