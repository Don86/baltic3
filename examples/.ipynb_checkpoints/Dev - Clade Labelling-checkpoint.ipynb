{
 "cells": [
  {
   "cell_type": "markdown",
   "metadata": {},
   "source": [
    "# Clade Labelling\n",
    "\n",
    "Development workbook for clade-labelling functions. \n",
    "\n",
    "### Input\n",
    " - a tree file, with some reference names embedded in there.\n",
    " - list of reference names\n",
    "\n",
    "### Output\n",
    "A dataframe with a list of tipnames, and their clade labels. \n",
    "\n",
    "It's possible to not have a clade label if that tipname is too far away from even the nearest reference to be meaningfully determined to \"belong\" to that reference."
   ]
  },
  {
   "cell_type": "code",
   "execution_count": 1,
   "metadata": {},
   "outputs": [],
   "source": [
    "%matplotlib inline\n",
    "import matplotlib.pyplot as plt\n",
    "import matplotlib.patches as patches\n",
    "from matplotlib.collections import PatchCollection, LineCollection\n",
    "import matplotlib.path as mpath\n",
    "import matplotlib.lines as mlines\n",
    "from matplotlib import gridspec\n",
    "\n",
    "import numpy as np\n",
    "import pandas as pd\n",
    "import os\n",
    "os.chdir(\"/users/dten0001/Google Drive/baltic3/examples\")\n",
    "import sys\n",
    "from functools import reduce\n",
    "import subprocess\n",
    "import time\n",
    "\n",
    "# Set random state\n",
    "my_randomstate = np.random.RandomState(12345)\n",
    "\n",
    "import xio\n",
    "import my_utils as xu\n",
    "import biophylo_utils as bpu\n",
    "import baltic3 as bt\n",
    "import baltic3_utils as btu\n",
    "\n",
    "from Bio import Phylo\n"
   ]
  },
  {
   "cell_type": "code",
   "execution_count": 3,
   "metadata": {},
   "outputs": [
    {
     "ename": "NameError",
     "evalue": "name 'tree' is not defined",
     "output_type": "error",
     "traceback": [
      "\u001b[0;31m---------------------------------------------------------------------------\u001b[0m",
      "\u001b[0;31mNameError\u001b[0m                                 Traceback (most recent call last)",
      "\u001b[0;32m<ipython-input-3-07213663792f>\u001b[0m in \u001b[0;36m<module>\u001b[0;34m()\u001b[0m\n\u001b[1;32m      9\u001b[0m         \u001b[0mref_names_ls\u001b[0m\u001b[0;34m.\u001b[0m\u001b[0mappend\u001b[0m\u001b[0;34m(\u001b[0m\u001b[0mnm\u001b[0m\u001b[0;34m)\u001b[0m\u001b[0;34m\u001b[0m\u001b[0m\n\u001b[1;32m     10\u001b[0m \u001b[0;34m\u001b[0m\u001b[0m\n\u001b[0;32m---> 11\u001b[0;31m \u001b[0mdf\u001b[0m \u001b[0;34m=\u001b[0m \u001b[0mbpu\u001b[0m\u001b[0;34m.\u001b[0m\u001b[0mget_clade_labels\u001b[0m\u001b[0;34m(\u001b[0m\u001b[0mtre\u001b[0m\u001b[0;34m,\u001b[0m \u001b[0mref_names_ls\u001b[0m\u001b[0;34m)\u001b[0m\u001b[0;34m\u001b[0m\u001b[0m\n\u001b[0m",
      "\u001b[0;32m~/Google Drive/baltic3/biophylo_utils.py\u001b[0m in \u001b[0;36mget_clade_labels\u001b[0;34m(my_tree, ref_names_ls, verbose)\u001b[0m\n\u001b[1;32m     52\u001b[0m \u001b[0;34m\u001b[0m\u001b[0m\n\u001b[1;32m     53\u001b[0m     \u001b[0;31m# Get all tipnames\u001b[0m\u001b[0;34m\u001b[0m\u001b[0;34m\u001b[0m\u001b[0m\n\u001b[0;32m---> 54\u001b[0;31m     \u001b[0mnames_ls\u001b[0m \u001b[0;34m=\u001b[0m \u001b[0;34m[\u001b[0m\u001b[0mx\u001b[0m\u001b[0;34m.\u001b[0m\u001b[0mname\u001b[0m \u001b[0;32mfor\u001b[0m \u001b[0mx\u001b[0m \u001b[0;32min\u001b[0m \u001b[0mtree\u001b[0m\u001b[0;34m.\u001b[0m\u001b[0mget_terminals\u001b[0m\u001b[0;34m(\u001b[0m\u001b[0;34m)\u001b[0m\u001b[0;34m]\u001b[0m\u001b[0;34m\u001b[0m\u001b[0m\n\u001b[0m\u001b[1;32m     55\u001b[0m \u001b[0;34m\u001b[0m\u001b[0m\n\u001b[1;32m     56\u001b[0m     \u001b[0;31m# Check\u001b[0m\u001b[0;34m\u001b[0m\u001b[0;34m\u001b[0m\u001b[0m\n",
      "\u001b[0;31mNameError\u001b[0m: name 'tree' is not defined"
     ]
    }
   ],
   "source": [
    "tre = Phylo.read(\"H3_test_tree.nex\", 'nexus')\n",
    "#tree.root_at_midpoint()\n",
    "#tree.ladderize()\n",
    "\n",
    "names_ls = [x.name for x in tre.get_terminals()]\n",
    "ref_names_ls = []\n",
    "for nm in names_ls:\n",
    "    if nm.split(\"|\")[0] == \"'A/H3N2\":\n",
    "        ref_names_ls.append(nm)\n",
    "\n",
    "df = bpu.get_clade_labels(tre, ref_names_ls)"
   ]
  },
  {
   "cell_type": "code",
   "execution_count": null,
   "metadata": {},
   "outputs": [],
   "source": [
    "df[\"clade_label_iso_name\"] = df.apply(lambda row: str(row[\"clade_label\"]).split(\"|\")[1], axis=1)\n",
    "print(list(set(df[\"clade_label_iso_name\"])))"
   ]
  },
  {
   "cell_type": "code",
   "execution_count": null,
   "metadata": {},
   "outputs": [],
   "source": [
    "# show baltic tree and bar chart\n",
    "bt_tre = btu.austechia_read_tree(\"H3_test_tree.nex\", date_delim=\"|\")"
   ]
  },
  {
   "cell_type": "code",
   "execution_count": null,
   "metadata": {},
   "outputs": [],
   "source": [
    "branchWidth=0.5\n",
    "track_width = 0.0065\n",
    "track_x0 = bt_tre.treeHeight*1.1 # abs value of position of left side of left-most track\n",
    "legend_h = 3\n",
    "legend_w = 0.007\n",
    "legend_x0 = -0.03\n",
    "legend_y0 = 0 # x0 and y0 = top left corner\n",
    "legend_fontsize = 12\n",
    "\n",
    "s=10 # tip shape size\n",
    "\n",
    "track_x = bt_tre.treeHeight*1.07\n",
    "\n",
    "label_cdict = {\"A/Singapore/INFIMH-16-0019/2016\":\"red\", \n",
    "               'A/Victoria/361/2011':\"blue\",\n",
    "              'A/Stockholm/6/2014':\"green\", \n",
    "              'A/Switzerland/9715293/2013':\"purple\", \n",
    "               'A/SouthAustralia/30/2012':\"orange\", \n",
    "              'A/HongKong/4801/2014':\"cyan\", \n",
    "              'A/SouthAustralia/55/2014':\"grey\"}"
   ]
  },
  {
   "cell_type": "code",
   "execution_count": null,
   "metadata": {},
   "outputs": [],
   "source": [
    "fig,ax = plt.subplots(figsize=(11,14),facecolor='w')\n",
    "\n",
    "for k in bt_tre.Objects:\n",
    "    c = 'k'\n",
    "    x=k.height # raw (x, y) coords\n",
    "    y=k.y\n",
    "\n",
    "    xp = k.parent.height\n",
    "    if x is None: # matplotlib won't plot Nones, like root\n",
    "        x = 0\n",
    "    if xp==None:\n",
    "        xp = x\n",
    "\n",
    "    if isinstance(k,bt.leaf) or k.branchType=='leaf':        \n",
    "        # Draw horizontal bars\n",
    "        if k.name.split(\"|\")[0] != \"A/H3N2\":\n",
    "            bar_width = df.loc[df[\"tip_name\"]==\"'\"+k.name+\"'\"][\"min_dist\"].values[0]\n",
    "            clade_label = df.loc[df[\"tip_name\"]==\"'\"+k.name+\"'\"][\"clade_label_iso_name\"].values[0].replace(\"'\", \"\")\n",
    "            ax.plot([track_x, track_x+bar_width], [y, y], color=label_cdict[clade_label], lw=branchWidth*2)\n",
    "        else:   \n",
    "            # Demarcate ref locations\n",
    "            ax.scatter(x,y,s=s,facecolor=c,edgecolor='none',zorder=11, alpha=0.4)\n",
    "            ax.text(x, y, k.name.split(\"|\")[1], color=label_cdict[k.name.split(\"|\")[1]])\n",
    "\n",
    "    elif isinstance(k,bt.node) or k.branchType=='node':\n",
    "        ax.plot([x,x],[k.children[-1].y,k.children[0].y],\n",
    "                lw=branchWidth,\n",
    "                color='k',\n",
    "                ls='-',\n",
    "                zorder=9)\n",
    "    ax.plot([xp,x],[y,y],lw=branchWidth,color='k',ls='-',zorder=9)\n",
    "\n",
    "plt.savefig(\"H3_test.pdf\")\n",
    "plt.show()"
   ]
  },
  {
   "cell_type": "code",
   "execution_count": null,
   "metadata": {
    "collapsed": true
   },
   "outputs": [],
   "source": []
  }
 ],
 "metadata": {
  "kernelspec": {
   "display_name": "Python 3",
   "language": "python",
   "name": "python3"
  },
  "language_info": {
   "codemirror_mode": {
    "name": "ipython",
    "version": 3
   },
   "file_extension": ".py",
   "mimetype": "text/x-python",
   "name": "python",
   "nbconvert_exporter": "python",
   "pygments_lexer": "ipython3",
   "version": "3.6.3"
  }
 },
 "nbformat": 4,
 "nbformat_minor": 2
}
