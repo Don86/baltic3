{
 "cells": [
  {
   "cell_type": "markdown",
   "metadata": {},
   "source": [
    "# Clade Labelling\n",
    "\n",
    "**This notebook is functional and actually very complete, but further development has been moved over to `aus-h3n2`, because I want to further aggressively simplify clade-labelling to just a few function calls.** There's currently still too much post-processing before passing to baltic. In the meantime, this is kept here for pedagogic purposes.\n",
    "\n",
    "Development workbook for clade-labelling functions. \n",
    "\n",
    "### Input\n",
    " - a tree file, with some reference names embedded in there.\n",
    " - list of reference names\n",
    "\n",
    "### Output\n",
    " - A dataframe with a list of tipnames, and their clade labels. \n",
    "\n",
    "It's possible for a sequence to not have a clade label if that tipname is too far away from even the nearest reference to be meaningfully determined to \"belong\" to that reference. \n",
    "\n",
    "### Notes\n",
    "\n",
    "Is it possible to write a `def` which outputs a standard plot of a tree and bar chart of distance from nearest reference? Tried a couple of times, but encountered input-hell.\n",
    "\n",
    "Also note that `Bio.Phylo` will include quotation marks in the tipnames; Figtree doesn't do this."
   ]
  },
  {
   "cell_type": "code",
   "execution_count": null,
   "metadata": {
    "collapsed": true
   },
   "outputs": [],
   "source": [
    "%matplotlib inline\n",
    "import matplotlib.pyplot as plt\n",
    "import matplotlib.patches as patches\n",
    "from matplotlib.collections import PatchCollection, LineCollection\n",
    "import matplotlib.path as mpath\n",
    "import matplotlib.lines as mlines\n",
    "import seaborn as sns\n",
    "\n",
    "import numpy as np\n",
    "import pandas as pd\n",
    "import os\n",
    "os.chdir(\"/users/dten0001/Google Drive/baltic3/examples\")\n",
    "import sys\n",
    "from functools import reduce\n",
    "import subprocess\n",
    "import time\n",
    "\n",
    "# Set random state\n",
    "my_randomstate = np.random.RandomState(12345)\n",
    "\n",
    "import xio\n",
    "import my_utils as xu\n",
    "import biophylo_utils as bpu\n",
    "import baltic3 as bt\n",
    "import baltic3_utils as btu\n",
    "\n",
    "from Bio import Phylo\n"
   ]
  },
  {
   "cell_type": "code",
   "execution_count": null,
   "metadata": {},
   "outputs": [
    {
     "name": "stdout",
     "output_type": "stream",
     "text": [
      "No. of reference tip names = 5\n",
      "No. of non-reference tip names = 595\n"
     ]
    }
   ],
   "source": [
    "tre = Phylo.read(\"H3_test_tree.nex\", 'nexus')\n",
    "#tree.root_at_midpoint()\n",
    "#tree.ladderize()\n",
    "\n",
    "names_ls = [x.name for x in tre.get_terminals()]\n",
    "ref_names_ls = []\n",
    "for nm in names_ls:\n",
    "    if nm.split(\"|\")[0] == \"'A/H3N2\":\n",
    "        ref_names_ls.append(nm)\n",
    "        \n",
    "ref_names_ls = [\"'A/H3N2|A/Singapore/INFIMH-16-0019/2016|Singapore|2016-06-14'\",\n",
    "                \"'A/H3N2|A/HongKong/4801/2014|HongKong|2014'\",\n",
    "                \"'A/H3N2|A/SouthAustralia/55/2014|Australia|2014-06-29'\",\n",
    "                \"'A/H3N2|A/SouthAustralia/30/2012|Australia|2012-05-10'\",\n",
    "                \"'A/H3N2|A/Victoria/361/2011|Australia|2011-10-24'\"]\n",
    "\n",
    "df = bpu.get_clade_labels(tre, ref_names_ls)\n",
    "\n",
    "# Fix up df a bit more to make referencing easier\n",
    "df[\"clade_label_iso_name\"] = df.apply(lambda row: str(row[\"clade_label\"]).split(\"|\")[1], axis=1)\n",
    "for ln in list(set(df[\"clade_label_iso_name\"])):\n",
    "    print(ln)\n",
    "\n",
    "# show statistics and plots of distance to reference\n",
    "for ref_iso_nm in list(set(df[\"clade_label_iso_name\"])):\n",
    "    print(ref_iso_nm)\n",
    "    d_temp = df.loc[df[\"clade_label_iso_name\"]==ref_iso_nm]\n",
    "    min_dist_arr = np.array(d_temp[\"min_dist\"])\n",
    "\n",
    "    for q in np.arange(80, 100, 5):\n",
    "        print(\"%s-th percentile = %.4f\" % (q, np.percentile(min_dist_arr, q)))\n",
    "\n",
    "    print(\"\")"
   ]
  },
  {
   "cell_type": "code",
   "execution_count": null,
   "metadata": {
    "collapsed": true
   },
   "outputs": [],
   "source": [
    "# Write out\n",
    "#df.to_csv(\"H3_clade_labels.csv\", index=False)"
   ]
  },
  {
   "cell_type": "markdown",
   "metadata": {},
   "source": [
    "# Plot!"
   ]
  },
  {
   "cell_type": "code",
   "execution_count": null,
   "metadata": {},
   "outputs": [],
   "source": [
    "# show baltic tree and bar chart\n",
    "bt_tre = btu.austechia_read_tree(\"H3_test_tree.nex\", date_delim=\"|\")\n",
    "\n",
    "branchWidth=0.5\n",
    "track_width = 0.0065\n",
    "track_x0 = bt_tre.treeHeight*1.1 # abs value of position of left side of left-most track\n",
    "s=10 # tip shape size\n",
    "\n",
    "track_x = bt_tre.treeHeight*1.07\n",
    "\n",
    "# clade label colour dictionary\n",
    "label_cdict = {\"A/Singapore/INFIMH-16-0019/2016\":\"red\", \n",
    "               'A/Victoria/361/2011':\"blue\",\n",
    "              'A/Stockholm/6/2014':\"green\", \n",
    "              'A/Switzerland/9715293/2013':\"purple\", # Not used\n",
    "               'A/SouthAustralia/30/2012':\"orange\", \n",
    "              'A/HongKong/4801/2014':\"cyan\", \n",
    "              'A/SouthAustralia/55/2014':\"grey\"}\n",
    "\n",
    "ref_names_ls2 = [x.replace(\"'\", \"\") for x in ref_names_ls]"
   ]
  },
  {
   "cell_type": "code",
   "execution_count": null,
   "metadata": {},
   "outputs": [],
   "source": [
    "fig,ax = plt.subplots(figsize=(11,14),facecolor='w')\n",
    "\n",
    "lines_ls = []\n",
    "\n",
    "for k in bt_tre.Objects:\n",
    "    c = 'k'\n",
    "    x=k.height # raw (x, y) coords\n",
    "    y=k.y\n",
    "\n",
    "    xp = k.parent.height\n",
    "    if x is None: # matplotlib won't plot Nones, like root\n",
    "        x = 0\n",
    "    if xp==None:\n",
    "        xp = x\n",
    "\n",
    "    if isinstance(k,bt.leaf) or k.branchType=='leaf':        \n",
    "        # Draw horizontal bars (not including references)\n",
    "        if k.name.split(\"|\")[0] != \"A/H3N2\":\n",
    "            bar_width = df.loc[df[\"tip_name\"]==\"'\"+k.name+\"'\"][\"min_dist\"].values[0]\n",
    "            clade_label = df.loc[df[\"tip_name\"]==\"'\"+k.name+\"'\"][\"clade_label_iso_name\"].values[0].replace(\"'\", \"\")\n",
    "            ax.plot([track_x, track_x+bar_width], [y, y], color=label_cdict[clade_label], lw=branchWidth*2)\n",
    "        # Demarcate reference locations\n",
    "        # Not all reference need be printed out; only user-selected ones\n",
    "        else:\n",
    "            if k.name in ref_names_ls2:\n",
    "                ax.scatter(x,y,s=40,\n",
    "                           facecolor=label_cdict[k.name.split(\"|\")[1]],\n",
    "                           edgecolor='none',\n",
    "                           zorder=11, \n",
    "                           alpha=0.4)\n",
    "                ax.text(x, y, \n",
    "                        k.name.split(\"|\")[1], \n",
    "                        color=\"k\",\n",
    "                        size=14)\n",
    "\n",
    "    elif isinstance(k,bt.node) or k.branchType=='node':\n",
    "        line = np.array([[x, k.children[0].y], [x, k.children[-1].y]])\n",
    "        lines_ls.append(line)\n",
    "\n",
    "    line = np.array([[xp, y], [x, y]])\n",
    "    lines_ls.append(line)\n",
    "        \n",
    "line_collection = LineCollection(lines_ls, lw=branchWidth,color='k', zorder=9)\n",
    "ax.add_collection(line_collection)\n",
    "\n",
    "\n",
    "# Switch off the axis\n",
    "plt.axis(\"off\")\n",
    "plt.savefig(\"H3_test.pdf\")\n",
    "plt.show()"
   ]
  },
  {
   "cell_type": "markdown",
   "metadata": {},
   "source": [
    "## Seaborn Heatmap"
   ]
  },
  {
   "cell_type": "code",
   "execution_count": null,
   "metadata": {},
   "outputs": [],
   "source": [
    "df = df.sort_values(by=\"clade_label_iso_name\")\n",
    "d_temp = df[['tip_name',\n",
    "          \"dist_to_'A/H3N2|A/Singapore/INFIMH-16-0019/2016|Singapore|2016-06-14'\",\n",
    "          \"dist_to_'A/H3N2|A/HongKong/4801/2014|HongKong|2014'\",\n",
    "          \"dist_to_'A/H3N2|A/SouthAustralia/55/2014|Australia|2014-06-29'\",\n",
    "          \"dist_to_'A/H3N2|A/SouthAustralia/30/2012|Australia|2012-05-10'\",\n",
    "          \"dist_to_'A/H3N2|A/Victoria/361/2011|Australia|2011-10-24'\"]]\n",
    "\n",
    "new_colnames = [\"A/SG/2016\", \"A/HK/4801/2014\", \"A/SthAus/55/2014\", \"A/SthAus/30/2012\", \"A/Vic/361/2011\"]\n",
    "\n",
    "d_temp.columns=[\"tip_name\"]+new_colnames\n",
    "\n",
    "plt.figure(figsize=(5, 18))\n",
    "sns.heatmap(d_temp[new_colnames])\n",
    "plt.show()"
   ]
  },
  {
   "cell_type": "code",
   "execution_count": null,
   "metadata": {
    "collapsed": true
   },
   "outputs": [],
   "source": []
  }
 ],
 "metadata": {
  "kernelspec": {
   "display_name": "Python 3",
   "language": "python",
   "name": "python3"
  },
  "language_info": {
   "codemirror_mode": {
    "name": "ipython",
    "version": 3
   },
   "file_extension": ".py",
   "mimetype": "text/x-python",
   "name": "python",
   "nbconvert_exporter": "python",
   "pygments_lexer": "ipython3",
   "version": "3.6.3"
  }
 },
 "nbformat": 4,
 "nbformat_minor": 2
}
